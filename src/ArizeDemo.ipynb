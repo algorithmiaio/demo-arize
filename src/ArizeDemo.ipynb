{
 "cells": [
  {
   "cell_type": "markdown",
   "metadata": {},
   "source": [
    "## Train and serialize model"
   ]
  },
  {
   "cell_type": "code",
   "execution_count": null,
   "metadata": {},
   "outputs": [],
   "source": [
    "import os\n",
    "\n",
    "import Algorithmia\n",
    "import joblib\n",
    "import numpy as np\n",
    "import pandas as pd\n",
    "from sklearn.linear_model import LogisticRegression\n",
    "from sklearn.model_selection import train_test_split\n",
    "\n",
    "# Load and split data.\n",
    "from sklearn import datasets\n",
    "data = datasets.load_breast_cancer()\n",
    "X, y = datasets.load_breast_cancer(return_X_y=True)\n",
    "X, y = (\n",
    "    pd.DataFrame(X.astype(np.float32), columns=data[\"feature_names\"]),\n",
    "    pd.Series(y)\n",
    ")\n",
    "\n",
    "X_train, X_test, y_train, y_test = train_test_split(X, y, random_state=42)\n",
    "\n",
    "# Fit a simple logistic regression model.\n",
    "clf = LogisticRegression(max_iter=3000, verbose=False).fit(X_train, y_train)\n",
    "\n",
    "# Generate predictions from the model.\n",
    "y_train_pred = clf.predict(X_train)\n",
    "y_test_pred = clf.predict(X_test)\n",
    "\n",
    "# Create a directory to save serialized model files.\n",
    "model_dir = \"models/\"\n",
    "if not os.path.exists(model_dir):\n",
    "    os.mkdir(model_dir)\n",
    "\n",
    "# Serialize the model.\n",
    "model_file = \"Algorithmia_Tutorial_Model.joblib\"\n",
    "model_file_path = model_dir+model_file\n",
    "joblib.dump(clf, model_file_path)"
   ]
  },
  {
   "cell_type": "markdown",
   "metadata": {},
   "source": [
    "## Calculate SHAP explainability values"
   ]
  },
  {
   "cell_type": "code",
   "execution_count": null,
   "metadata": {},
   "outputs": [],
   "source": [
    "!pip install shap"
   ]
  },
  {
   "cell_type": "code",
   "execution_count": null,
   "metadata": {},
   "outputs": [],
   "source": [
    "import shap\n",
    "def get_shap_values(model, X_data, ExplainerType=shap.Explainer, show_graph=False):\n",
    "    # NOTE: If there are errors, you'll need to manually select the explainer class.\n",
    "    explainer = ExplainerType(model, X_data)\n",
    "    shap_values = explainer.shap_values(X_data)\n",
    "\n",
    "    # In development, it can be valuable to check graphs for feature explainability.\n",
    "    if show_graph:\n",
    "        shap.summary_plot(shap_values, X_data, feature_names=data['feature_names'])\n",
    "\n",
    "    # NOTE: The Arize API expects a pandas DataFrame of the same shape and with\n",
    "    #       the same column names as the model features.\n",
    "    return pd.DataFrame(shap_values, columns=data[\"feature_names\"])\n",
    "\n",
    "shap_values = get_shap_values(clf, X, show_graph=True)"
   ]
  },
  {
   "cell_type": "markdown",
   "metadata": {},
   "source": [
    "## Define Algorithmia variables"
   ]
  },
  {
   "cell_type": "code",
   "execution_count": null,
   "metadata": {},
   "outputs": [],
   "source": [
    "CLUSTER_DOMAIN = \"algorithmia.com\"\n",
    "\n",
    "# Define variables to uniquely identify resources accessed.\n",
    "RESOURCE_OWNER = \"algorithmia_arize\"\n",
    "COLLECTION_OWNER = RESOURCE_OWNER\n",
    "ALGO_OWNER = RESOURCE_OWNER\n",
    "\n",
    "RESOURCE_NAME = \"sklearn_demo\"\n",
    "COLLECTION_NAME = RESOURCE_NAME\n",
    "ALGO_NAME = RESOURCE_NAME\n",
    "\n",
    "ALGO_VERSION = \"0.1.3\"\n",
    "\n",
    "ALGORITHMIA_API_KEY = os.getenv(\"PROD_USER_API_KEY\")\n",
    "print(ALGORITHMIA_API_KEY[:7]+(len(ALGORITHMIA_API_KEY)-7)*\"*\")"
   ]
  },
  {
   "cell_type": "markdown",
   "metadata": {},
   "source": [
    "## Upload serialized model to Algorithmia"
   ]
  },
  {
   "cell_type": "code",
   "execution_count": null,
   "metadata": {},
   "outputs": [],
   "source": [
    "# Create a hosted data collection if it doesn't already exist.\n",
    "client = Algorithmia.client(ALGORITHMIA_API_KEY)\n",
    "collection_uri = \"data://\"+COLLECTION_OWNER+\"/\" + COLLECTION_NAME\n",
    "collection = client.dir(collection_uri)\n",
    "if not collection.exists():\n",
    "    collection.create()\n",
    "\n",
    "# Upload model file and test data to data collection.\n",
    "client.file(collection_uri+\"/\"+model_file).putFile(model_file_path)"
   ]
  },
  {
   "cell_type": "markdown",
   "metadata": {},
   "source": [
    "## Create algorithm object for calling algorithm, which has already been set up to load model"
   ]
  },
  {
   "cell_type": "code",
   "execution_count": null,
   "metadata": {},
   "outputs": [],
   "source": [
    "import Algorithmia\n",
    "\n",
    "# Build algorithm endpoint and instantiate client.\n",
    "ALGO_ENDPOINT = ALGO_OWNER+\"/\"+ALGO_NAME+\"/\"+ALGO_VERSION\n",
    "client = Algorithmia.client(ALGORITHMIA_API_KEY, \"https://\"+CLUSTER_DOMAIN)\n",
    "algo = client.algo(ALGO_ENDPOINT)\n",
    "\n",
    "# Optionally set timeout parameters for testing purposes.\n",
    "algo.set_options(timeout=60)"
   ]
  },
  {
   "cell_type": "markdown",
   "metadata": {},
   "source": [
    "## Pipe data into algorithm and convert JSON response back to DataFrame"
   ]
  },
  {
   "cell_type": "code",
   "execution_count": null,
   "metadata": {},
   "outputs": [],
   "source": [
    "# Create demo data, serialize to JSON, and pipe into algorithm.\n",
    "_, X_test_2, _, y_test_2 = train_test_split(X, y, test_size=0.02)\n",
    "input = X_test_2.to_json()\n",
    "result_json = algo.pipe(input).result\n",
    "\n",
    "# Just like input, output is JSON object, so convert back into pd.DataFrame.\n",
    "result = pd.read_json(result_json)\n",
    "result"
   ]
  },
  {
   "cell_type": "markdown",
   "metadata": {},
   "source": [
    "## (A more condensed version)"
   ]
  },
  {
   "cell_type": "code",
   "execution_count": null,
   "metadata": {},
   "outputs": [],
   "source": [
    "import os\n",
    "import Algorithmia\n",
    "\n",
    "ALGORITHMIA_API_KEY = os.getenv(\"PROD_USER_API_KEY\")\n",
    "\n",
    "ALGO_ENDPOINT = ALGO_OWNER+\"/\"+ALGO_NAME+\"/\"+ALGO_VERSION\n",
    "\n",
    "client = Algorithmia.client(ALGORITHMIA_API_KEY)\n",
    "algo = client.algo(ALGO_ENDPOINT)\n",
    "algo.set_options(timeout=60)\n",
    "\n",
    "input = \"\"\"{\"mean radius\":{\"294\":12.720000267,\"516\":18.3099994659},\"mean texture\":{\"294\":13.779999733,\"516\":20.5799999237},\"mean perimeter\":{\"294\":81.7799987793,\"516\":120.8000030518},\"mean area\":{\"294\":492.1000061035,\"516\":1052.0},\"mean smoothness\":{\"294\":0.0966700017,\"516\":0.1067999974},\"mean compactness\":{\"294\":0.0839300007,\"516\":0.1247999966},\"mean concavity\":{\"294\":0.0128800003,\"516\":0.1569000036},\"mean concave points\":{\"294\":0.0192399994,\"516\":0.0945099965},\"mean symmetry\":{\"294\":0.1638000011,\"516\":0.1860000044},\"mean fractal dimension\":{\"294\":0.0610000007,\"516\":0.0594099984},\"radius error\":{\"294\":0.1807000041,\"516\":0.5449000001},\"texture error\":{\"294\":0.6930999756,\"516\":0.9225000143},\"perimeter error\":{\"294\":1.3400000334,\"516\":3.2179999352},\"area error\":{\"294\":13.3800001144,\"516\":67.3600006104},\"smoothness error\":{\"294\":0.0060640001,\"516\":0.006176},\"compactness error\":{\"294\":0.0118000004,\"516\":0.01877},\"concavity error\":{\"294\":0.0065640002,\"516\":0.0291300006},\"concave points error\":{\"294\":0.0079779997,\"516\":0.0104599996},\"symmetry error\":{\"294\":0.0137400003,\"516\":0.01559},\"fractal dimension error\":{\"294\":0.001392,\"516\":0.002725},\"worst radius\":{\"294\":13.5,\"516\":21.8600006104},\"worst texture\":{\"294\":17.4799995422,\"516\":26.2000007629},\"worst perimeter\":{\"294\":88.5400009155,\"516\":142.1999969482},\"worst area\":{\"294\":553.700012207,\"516\":1493.0},\"worst smoothness\":{\"294\":0.1298000067,\"516\":0.1492000073},\"worst compactness\":{\"294\":0.1472000033,\"516\":0.2536000013},\"worst concavity\":{\"294\":0.0523299985,\"516\":0.3759000003},\"worst concave points\":{\"294\":0.0634299964,\"516\":0.1509999931},\"worst symmetry\":{\"294\":0.2369000018,\"516\":0.3073999882},\"worst fractal dimension\":{\"294\":0.069219999,\"516\":0.0786300004}}\"\"\"\n",
    "algo.pipe(input).result\n",
    "# --> '{\"0\":{\"2ef8ffea-72ed-43e7-a6d2-21b5465efd2c\":1,\"0ccdb2f0-11e6-49a7-982a-303c91b5edd0\":0}}'"
   ]
  },
  {
   "cell_type": "code",
   "execution_count": null,
   "metadata": {},
   "outputs": [],
   "source": [
    "# NOTE: Input to algorithm must be serialized to JSON (cannot pass a pd.DataFrame directly).\n",
    "client = Algorithmia.client(ALGORITHMIA_API_KEY)\n",
    "algo = client.algo(ALGO_ENDPOINT)\n",
    "# Optionally set timeout parameters for testing purposes.\n",
    "algo.set_options(timeout=60)"
   ]
  },
  {
   "cell_type": "code",
   "execution_count": null,
   "metadata": {},
   "outputs": [],
   "source": [
    "# Actual format shape of input for pipe(input) should depend on your algorithm\n",
    "result = algo.pipe(input).result\n",
    "result"
   ]
  },
  {
   "cell_type": "code",
   "execution_count": null,
   "metadata": {},
   "outputs": [],
   "source": []
  }
 ],
 "metadata": {
  "kernelspec": {
   "display_name": "Python 3",
   "language": "python",
   "name": "python3"
  },
  "language_info": {
   "codemirror_mode": {
    "name": "ipython",
    "version": 3
   },
   "file_extension": ".py",
   "mimetype": "text/x-python",
   "name": "python",
   "nbconvert_exporter": "python",
   "pygments_lexer": "ipython3",
   "version": "3.8.5"
  }
 },
 "nbformat": 4,
 "nbformat_minor": 5
}
